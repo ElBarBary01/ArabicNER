{
 "cells": [
  {
   "cell_type": "code",
   "execution_count": 3,
   "metadata": {},
   "outputs": [
    {
     "name": "stdout",
     "output_type": "stream",
     "text": [
      "Filtered data has been saved to output1.txt.\n"
     ]
    }
   ],
   "source": [
    "# Input and output file paths\n",
    "input_file_path = './data/train.txt'\n",
    "output_file_path = 'output1.txt'\n",
    "\n",
    "# Tags to keep\n",
    "valid_tags = {'B-ORG', 'I-ORG', 'B-PERS', 'I-PERS', 'O', 'B-LOC', 'I-LOC', 'B-OCC', 'I-OCC', 'B-DATE', 'I-DATE', 'B-WEBSITE', 'I-WEBSITE'}\n",
    "\n",
    "# Open input and output text files\n",
    "with open(input_file_path, 'r', encoding='utf-8') as input_file, \\\n",
    "        open(output_file_path, 'w', encoding='utf-8') as output_file:\n",
    "\n",
    "    # Read lines from the input file\n",
    "    lines = input_file.readlines()\n",
    "\n",
    "    # Write header to the output file (assuming the first line is a header)\n",
    "    output_file.write(lines[0])\n",
    "\n",
    "    # Iterate through each line in the input file starting from the second line (skip header)\n",
    "    for line in lines[1:]:\n",
    "        # Split the line into columns (assuming space or tab as separator)\n",
    "        columns = line.split()\n",
    "\n",
    "        # Check if the last column (tag) is one of the valid tags\n",
    "        if columns and columns[-1] in valid_tags:\n",
    "            # Write the line to the output file\n",
    "            output_file.write(line)\n",
    "        else:\n",
    "            # If the tag is not valid, change it to 'O' and write the line to the output file\n",
    "            columns[-1] = 'O'\n",
    "            output_file.write(' '.join(columns) + '\\n')\n",
    "\n",
    "print(f\"Filtered data has been saved to {output_file_path}.\")\n"
   ]
  }
 ],
 "metadata": {
  "kernelspec": {
   "display_name": "Python 3",
   "language": "python",
   "name": "python3"
  },
  "language_info": {
   "codemirror_mode": {
    "name": "ipython",
    "version": 3
   },
   "file_extension": ".py",
   "mimetype": "text/x-python",
   "name": "python",
   "nbconvert_exporter": "python",
   "pygments_lexer": "ipython3",
   "version": "3.11.3"
  }
 },
 "nbformat": 4,
 "nbformat_minor": 2
}
