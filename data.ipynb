{
 "cells": [
  {
   "cell_type": "code",
   "execution_count": 2,
   "metadata": {},
   "outputs": [
    {
     "name": "stdout",
     "output_type": "stream",
     "text": [
      "Filtered data has been saved to ./data/train_filter.txt.\n"
     ]
    }
   ],
   "source": [
    "# Input and output file paths\n",
    "input_file_path = './data/train.txt'\n",
    "output_file_path = './data/train_filter.txt'\n",
    "\n",
    "# Tags to keep\n",
    "valid_tags = {'B-ORG', 'I-ORG', 'B-PERS', 'I-PERS', 'O', 'B-LOC', 'I-LOC', 'B-OCC', 'I-OCC', 'B-DATE', 'I-DATE', 'B-WEBSITE', 'I-WEBSITE'}\n",
    "\n",
    "# Open input and output text files\n",
    "with open(input_file_path, 'r', encoding='utf-8') as input_file, \\\n",
    "        open(output_file_path, 'w', encoding='utf-8') as output_file:\n",
    "\n",
    "    # Write header to the output file (assuming there's a header in the input file)\n",
    "    header = input_file.readline()\n",
    "    output_file.write(header)\n",
    "\n",
    "    # Iterate through each line in the input file\n",
    "    for line in input_file:\n",
    "        # Split the line into columns (assuming they are space-separated or in a specific format)\n",
    "        columns = line.strip().split()\n",
    "\n",
    "        # Check if the last column (tag) is one of the valid tags\n",
    "        if columns and columns[-1] in valid_tags:\n",
    "            # Write the line to the output file\n",
    "            output_file.write(line)\n",
    "\n",
    "print(f\"Filtered data has been saved to {output_file_path}.\")\n"
   ]
  },
  {
   "cell_type": "code",
   "execution_count": null,
   "metadata": {},
   "outputs": [],
   "source": [
    "import csv\n",
    "\n",
    "# Input and output file paths\n",
    "input_file_path = 'flatenedoriginalwojoodd.csv'\n",
    "output_file_path = 'output.csv'\n",
    "\n",
    "# Tags to keep\n",
    "valid_tags = {'B-ORG', 'I-ORG', 'B-PERS', 'I-PERS', 'B-MISC', 'I-MISC', 'O', 'B-LOC', 'I-LOC'}\n",
    "\n",
    "# Open input and output CSV files\n",
    "with open(input_file_path, 'r', encoding='utf-8') as input_file, \\\n",
    "        open(output_file_path, 'w', encoding='utf-8', newline='') as output_file:\n",
    "\n",
    "    # Create CSV reader and writer objects\n",
    "    csv_reader = csv.reader(input_file)\n",
    "    csv_writer = csv.writer(output_file)\n",
    "\n",
    "    # Write header to the output file\n",
    "    header = next(csv_reader)\n",
    "    csv_writer.writerow(header)\n",
    "\n",
    "    # Iterate through each row in the input file\n",
    "    for row in csv_reader:\n",
    "        # Check if the tag in the 'tags' column is one of the valid tags\n",
    "        if row and row[-1] in valid_tags:\n",
    "            # Write the row to the output file\n",
    "            csv_writer.writerow(row)\n",
    "\n",
    "print(f\"Filtered data has been saved to {output_file_path}.\")\n"
   ]
  }
 ],
 "metadata": {
  "kernelspec": {
   "display_name": "Python 3",
   "language": "python",
   "name": "python3"
  },
  "language_info": {
   "codemirror_mode": {
    "name": "ipython",
    "version": 3
   },
   "file_extension": ".py",
   "mimetype": "text/x-python",
   "name": "python",
   "nbconvert_exporter": "python",
   "pygments_lexer": "ipython3",
   "version": "3.11.3"
  }
 },
 "nbformat": 4,
 "nbformat_minor": 2
}
